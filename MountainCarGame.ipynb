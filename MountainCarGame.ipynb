{
  "nbformat": 4,
  "nbformat_minor": 0,
  "metadata": {
    "colab": {
      "provenance": [],
      "authorship_tag": "ABX9TyPvGfGVIgDiP4Nz+Mkxrqtm",
      "include_colab_link": true
    },
    "kernelspec": {
      "name": "python3",
      "display_name": "Python 3"
    },
    "language_info": {
      "name": "python"
    }
  },
  "cells": [
    {
      "cell_type": "markdown",
      "metadata": {
        "id": "view-in-github",
        "colab_type": "text"
      },
      "source": [
        "<a href=\"https://colab.research.google.com/github/aayu-7/MountainCarGame-Using-ReinforcementLearning/blob/main/MountainCarGame.ipynb\" target=\"_parent\"><img src=\"https://colab.research.google.com/assets/colab-badge.svg\" alt=\"Open In Colab\"/></a>"
      ]
    },
    {
      "cell_type": "markdown",
      "source": [
        " **Problem Description**\n",
        "\n",
        "In the MountainCar environment, a car starts at the bottom of a valley. The agent must learn to drive up a steep hill to reach the flag. Since the car’s engine is not powerful enough to climb the hill directly, it must first build momentum by driving back and forth.\n",
        "The car's engine isn't powerful enough to drive directly up the hill. Instead, the agent must learn to build momentum by first moving left to gain speed and then driving right to reach the goal.\n",
        "\n",
        "    State Space: Continuous values for position and velocity.\n",
        "    Action Space: Three discrete actions:\n",
        "        0: Push left\n",
        "        1: No push\n",
        "        2: Push right\n",
        "    Reward: The agent gets -1 for each time step until it reaches the goal."
      ],
      "metadata": {
        "id": "1vZ74GdYS7gT"
      }
    },
    {
      "cell_type": "markdown",
      "source": [
        "Training:\n",
        "\n",
        "    The agent is trained over 5000 episodes.\n",
        "    Epsilon-greedy policy ensures exploration initially, which decays over time to favor exploitation.\n",
        "\n",
        "Testing:\n",
        "\n",
        "    The trained agent is evaluated and its performance recorded as a video.\n",
        "\n",
        "Video Display:\n",
        "\n",
        "    The RecordVideo wrapper saves the video, and it is displayed using HTML in Colab."
      ],
      "metadata": {
        "id": "2OMhh8fUTc-G"
      }
    },
    {
      "cell_type": "code",
      "source": [
        "# Install the required library\n",
        "!pip install gym\n",
        "\n",
        "# Import required libraries\n",
        "import gym\n",
        "import numpy as np\n",
        "import matplotlib.pyplot as plt\n",
        "from IPython.display import HTML\n",
        "import glob\n",
        "import io\n",
        "from base64 import b64encode\n",
        "from gym.wrappers import RecordVideo\n",
        "\n",
        "# Function to discretize state space\n",
        "def discretize_state(state, bins):\n",
        "    position_bins = np.linspace(-1.2, 0.6, bins)  # Discretize position\n",
        "    velocity_bins = np.linspace(-0.07, 0.07, bins)  # Discretize velocity\n",
        "    position_idx = np.digitize(state[0], position_bins) - 1\n",
        "    velocity_idx = np.digitize(state[1], velocity_bins) - 1\n",
        "    return (position_idx, velocity_idx)\n",
        "\n",
        "# Function to display video\n",
        "def show_video():\n",
        "    video_path = glob.glob('./video/*.mp4')[0]\n",
        "    video = io.open(video_path, 'r+b').read()\n",
        "    encoded = b64encode(video)\n",
        "    return HTML(data=f'''\n",
        "        <video width=\"640\" height=\"480\" controls>\n",
        "            <source src=\"data:video/mp4;base64,{encoded.decode('ascii')}\" type=\"video/mp4\">\n",
        "        </video>''')\n",
        "\n",
        "# Initialize the environment\n",
        "env = gym.make(\"MountainCar-v0\")\n",
        "\n",
        "# Hyperparameters\n",
        "n_bins = 20  # Number of bins for discretization\n",
        "alpha = 0.1  # Learning rate\n",
        "gamma = 0.99  # Discount factor\n",
        "epsilon = 1.0  # Exploration rate\n",
        "epsilon_decay = 0.995\n",
        "epsilon_min = 0.01\n",
        "n_episodes = 5000\n",
        "\n",
        "# Initialize Q-table\n",
        "n_actions = env.action_space.n\n",
        "q_table = np.zeros((n_bins, n_bins, n_actions))\n",
        "\n",
        "# Training loop\n",
        "for episode in range(n_episodes):\n",
        "    state = discretize_state(env.reset(), n_bins)\n",
        "    done = False\n",
        "    total_reward = 0\n",
        "\n",
        "    while not done:\n",
        "        # Choose action: exploration vs exploitation\n",
        "        if np.random.random() < epsilon:\n",
        "            action = env.action_space.sample()\n",
        "        else:\n",
        "            action = np.argmax(q_table[state])\n",
        "\n",
        "        # Perform action\n",
        "        next_state_raw, reward, done, _ = env.step(action)\n",
        "        next_state = discretize_state(next_state_raw, n_bins)\n",
        "\n",
        "        # Update Q-value\n",
        "        best_next_action = np.argmax(q_table[next_state])\n",
        "        td_target = reward + gamma * q_table[next_state][best_next_action]\n",
        "        q_table[state][action] += alpha * (td_target - q_table[state][action])\n",
        "\n",
        "        state = next_state\n",
        "        total_reward += reward\n",
        "\n",
        "    # Decay epsilon\n",
        "    if epsilon > epsilon_min:\n",
        "        epsilon *= epsilon_decay\n",
        "\n",
        "    if episode % 100 == 0:\n",
        "        print(f\"Episode {episode}, Total Reward: {total_reward}\")\n",
        "\n",
        "print(\"Training Complete!\")\n",
        "\n",
        "# Wrap environment for recording\n",
        "env = RecordVideo(env, \"./video\", episode_trigger=lambda x: True)\n",
        "\n",
        "# Test the trained agent\n",
        "state = discretize_state(env.reset(), n_bins)\n",
        "done = False\n",
        "while not done:\n",
        "    action = np.argmax(q_table[state])\n",
        "    next_state_raw, _, done, _ = env.step(action)\n",
        "    state = discretize_state(next_state_raw, n_bins)\n",
        "\n",
        "env.close()\n",
        "\n",
        "# Display the video\n",
        "show_video()\n"
      ],
      "metadata": {
        "colab": {
          "base_uri": "https://localhost:8080/",
          "height": 1000
        },
        "id": "R1pDBWRnRcEy",
        "outputId": "77437ff5-d306-4edd-f316-601a3a025d18"
      },
      "execution_count": null,
      "outputs": [
        {
          "output_type": "stream",
          "name": "stdout",
          "text": [
            "Requirement already satisfied: gym in /usr/local/lib/python3.10/dist-packages (0.25.2)\n",
            "Requirement already satisfied: numpy>=1.18.0 in /usr/local/lib/python3.10/dist-packages (from gym) (1.26.4)\n",
            "Requirement already satisfied: cloudpickle>=1.2.0 in /usr/local/lib/python3.10/dist-packages (from gym) (3.1.0)\n",
            "Requirement already satisfied: gym-notices>=0.0.4 in /usr/local/lib/python3.10/dist-packages (from gym) (0.0.8)\n"
          ]
        },
        {
          "output_type": "stream",
          "name": "stderr",
          "text": [
            "/usr/local/lib/python3.10/dist-packages/gym/core.py:317: DeprecationWarning: \u001b[33mWARN: Initializing wrapper in old step API which returns one bool instead of two. It is recommended to set `new_step_api=True` to use new step API. This will be the default behaviour in future.\u001b[0m\n",
            "  deprecation(\n",
            "/usr/local/lib/python3.10/dist-packages/gym/wrappers/step_api_compatibility.py:39: DeprecationWarning: \u001b[33mWARN: Initializing environment in old step API which returns one bool instead of two. It is recommended to set `new_step_api=True` to use new step API. This will be the default behaviour in future.\u001b[0m\n",
            "  deprecation(\n",
            "/usr/local/lib/python3.10/dist-packages/gym/utils/passive_env_checker.py:241: DeprecationWarning: `np.bool8` is a deprecated alias for `np.bool_`.  (Deprecated NumPy 1.24)\n",
            "  if not isinstance(terminated, (bool, np.bool8)):\n"
          ]
        },
        {
          "output_type": "stream",
          "name": "stdout",
          "text": [
            "Episode 0, Total Reward: -200.0\n",
            "Episode 100, Total Reward: -200.0\n",
            "Episode 200, Total Reward: -200.0\n",
            "Episode 300, Total Reward: -200.0\n",
            "Episode 400, Total Reward: -200.0\n",
            "Episode 500, Total Reward: -200.0\n",
            "Episode 600, Total Reward: -200.0\n",
            "Episode 700, Total Reward: -200.0\n",
            "Episode 800, Total Reward: -200.0\n",
            "Episode 900, Total Reward: -200.0\n",
            "Episode 1000, Total Reward: -200.0\n",
            "Episode 1100, Total Reward: -164.0\n",
            "Episode 1200, Total Reward: -151.0\n",
            "Episode 1300, Total Reward: -200.0\n",
            "Episode 1400, Total Reward: -200.0\n",
            "Episode 1500, Total Reward: -200.0\n",
            "Episode 1600, Total Reward: -200.0\n",
            "Episode 1700, Total Reward: -200.0\n",
            "Episode 1800, Total Reward: -160.0\n",
            "Episode 1900, Total Reward: -200.0\n",
            "Episode 2000, Total Reward: -121.0\n",
            "Episode 2100, Total Reward: -200.0\n",
            "Episode 2200, Total Reward: -152.0\n",
            "Episode 2300, Total Reward: -200.0\n",
            "Episode 2400, Total Reward: -168.0\n",
            "Episode 2500, Total Reward: -162.0\n",
            "Episode 2600, Total Reward: -200.0\n",
            "Episode 2700, Total Reward: -200.0\n",
            "Episode 2800, Total Reward: -188.0\n",
            "Episode 2900, Total Reward: -147.0\n",
            "Episode 3000, Total Reward: -154.0\n",
            "Episode 3100, Total Reward: -200.0\n",
            "Episode 3200, Total Reward: -151.0\n",
            "Episode 3300, Total Reward: -144.0\n",
            "Episode 3400, Total Reward: -200.0\n",
            "Episode 3500, Total Reward: -200.0\n",
            "Episode 3600, Total Reward: -187.0\n",
            "Episode 3700, Total Reward: -200.0\n",
            "Episode 3800, Total Reward: -200.0\n",
            "Episode 3900, Total Reward: -200.0\n",
            "Episode 4000, Total Reward: -146.0\n",
            "Episode 4100, Total Reward: -169.0\n",
            "Episode 4200, Total Reward: -182.0\n",
            "Episode 4300, Total Reward: -179.0\n",
            "Episode 4400, Total Reward: -118.0\n",
            "Episode 4500, Total Reward: -200.0\n",
            "Episode 4600, Total Reward: -186.0\n",
            "Episode 4700, Total Reward: -152.0\n",
            "Episode 4800, Total Reward: -200.0\n",
            "Episode 4900, Total Reward: -120.0\n",
            "Training Complete!\n"
          ]
        },
        {
          "output_type": "stream",
          "name": "stderr",
          "text": [
            "/usr/local/lib/python3.10/dist-packages/gym/wrappers/record_video.py:78: UserWarning: \u001b[33mWARN: Overwriting existing videos at /content/video folder (try specifying a different `video_folder` for the `RecordVideo` wrapper if this is not desired)\u001b[0m\n",
            "  logger.warn(\n",
            "/usr/local/lib/python3.10/dist-packages/gym/wrappers/monitoring/video_recorder.py:78: DeprecationWarning: \u001b[33mWARN: Recording ability for environment MountainCar-v0 initialized with `render_mode=None` is marked as deprecated and will be removed in the future.\u001b[0m\n",
            "  logger.deprecation(\n",
            "/usr/local/lib/python3.10/dist-packages/gym/core.py:43: DeprecationWarning: \u001b[33mWARN: The argument mode in render method is deprecated; use render_mode during environment initialization instead.\n",
            "See here for more information: https://www.gymlibrary.ml/content/api/\u001b[0m\n",
            "  deprecation(\n"
          ]
        },
        {
          "output_type": "execute_result",
          "data": {
            "text/plain": [
              "<IPython.core.display.HTML object>"
            ],
            "text/html": [
              "\n",
              "        <video width=\"640\" height=\"480\" controls>\n",
              "            <source src=\"data:video/mp4;base64,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\" type=\"video/mp4\">\n",
              "        </video>"
            ]
          },
          "metadata": {},
          "execution_count": 12
        }
      ]
    },
    {
      "cell_type": "code",
      "source": [],
      "metadata": {
        "id": "eRMVFBNFSMN7"
      },
      "execution_count": null,
      "outputs": []
    }
  ]
}